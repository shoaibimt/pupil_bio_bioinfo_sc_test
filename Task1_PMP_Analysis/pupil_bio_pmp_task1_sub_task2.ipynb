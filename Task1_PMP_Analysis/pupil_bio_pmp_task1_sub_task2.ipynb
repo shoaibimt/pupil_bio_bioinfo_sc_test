{
  "nbformat": 4,
  "nbformat_minor": 0,
  "metadata": {
    "colab": {
      "provenance": []
    },
    "kernelspec": {
      "name": "python3",
      "display_name": "Python 3"
    },
    "language_info": {
      "name": "python"
    }
  },
  "cells": [
    {
      "cell_type": "code",
      "source": [
        "from google.colab import drive\n",
        "drive.mount('/content/drive')\n"
      ],
      "metadata": {
        "colab": {
          "base_uri": "https://localhost:8080/"
        },
        "id": "rMlht138bVpi",
        "outputId": "d110df1d-11ab-4faa-f3e9-951b39a75a8f"
      },
      "execution_count": null,
      "outputs": [
        {
          "output_type": "stream",
          "name": "stdout",
          "text": [
            "Drive already mounted at /content/drive; to attempt to forcibly remount, call drive.mount(\"/content/drive\", force_remount=True).\n"
          ]
        }
      ]
    },
    {
      "cell_type": "markdown",
      "source": [
        "**2.\n",
        "Biomarker Identification (20 points)**:<br>\n",
        "a.\n",
        "Identify PMPs with high specificity for tissue differentiation, minimizing false positives for Tissue #1 while allowing some false negatives. Use statistical or machine learning approaches to assign confidence (e.g., p-values) to each PMP (15 points).<br>\n",
        "b.\n",
        "Calculate the mean variant read fraction (VRF) for each PMP in both tissues (5 points)."
      ],
      "metadata": {
        "id": "ytyMJzbOp7Ax"
      }
    },
    {
      "cell_type": "code",
      "source": [
        "\n",
        "!pip install pyspark\n",
        "\n",
        "\n",
        "from pyspark.sql import SparkSession\n",
        "from pyspark.ml.feature import VectorAssembler\n",
        "#from pyspark.ml.classification import GBTClassifier\n",
        "from pyspark.ml.classification import RandomForestClassifier\n",
        "#from tqdm import tqdm\n"
      ],
      "metadata": {
        "colab": {
          "base_uri": "https://localhost:8080/"
        },
        "id": "Zm1KZ7y61wE1",
        "outputId": "3a14ab32-68fe-434a-9b55-a081ac52a0a7"
      },
      "execution_count": null,
      "outputs": [
        {
          "output_type": "stream",
          "name": "stdout",
          "text": [
            "Requirement already satisfied: pyspark in /usr/local/lib/python3.10/dist-packages (3.5.3)\n",
            "Requirement already satisfied: py4j==0.10.9.7 in /usr/local/lib/python3.10/dist-packages (from pyspark) (0.10.9.7)\n"
          ]
        }
      ]
    },
    {
      "cell_type": "code",
      "source": [
        "\n",
        "spark = SparkSession.builder \\\n",
        "    .appName(\"rf Feature Importance\") \\\n",
        "    .getOrCreate()"
      ],
      "metadata": {
        "id": "s_PsgUPwEbdi"
      },
      "execution_count": null,
      "outputs": []
    },
    {
      "cell_type": "code",
      "source": [
        "import pandas as pd\n",
        "import numpy as np\n",
        "import matplotlib.pyplot as plt\n",
        "import seaborn as sns\n",
        "from sklearn.preprocessing import LabelEncoder"
      ],
      "metadata": {
        "id": "kR_slOprd16a"
      },
      "execution_count": null,
      "outputs": []
    },
    {
      "cell_type": "code",
      "source": [
        "df = spark.read.csv('/content/drive/MyDrive/phased_methylation_pattern/normalized_data.csv', header=True, inferSchema=True)\n"
      ],
      "metadata": {
        "id": "oW1fKRn72Bzv"
      },
      "execution_count": null,
      "outputs": []
    },
    {
      "cell_type": "code",
      "source": [
        "# Step 5: Rename columns to avoid issues with special characters\n",
        "for col in df.columns:\n",
        "    new_col = col.replace('`', '').replace('.', '_')  # Replace problematic characters\n",
        "    df = df.withColumnRenamed(col, new_col)"
      ],
      "metadata": {
        "id": "fGypuDVL9RmW"
      },
      "execution_count": null,
      "outputs": []
    },
    {
      "cell_type": "code",
      "source": [
        "#df.write.parquet('/content/drive/MyDrive/phased_methylation_pattern/pmps_dataset.parquet')"
      ],
      "metadata": {
        "id": "mIs5bd3PDDG0"
      },
      "execution_count": null,
      "outputs": []
    },
    {
      "cell_type": "code",
      "source": [
        "# Step 4: Load your dataset from Parquet format\n",
        "#df = spark.read.parquet('/content/drive/MyDrive/phased_methylation_pattern/pmps_dataset.parquet')\n"
      ],
      "metadata": {
        "id": "walW1QL2EwAk"
      },
      "execution_count": null,
      "outputs": []
    },
    {
      "cell_type": "code",
      "source": [
        "df.printSchema()\n",
        "df.show()"
      ],
      "metadata": {
        "colab": {
          "base_uri": "https://localhost:8080/"
        },
        "id": "qYmyy6mh3c8U",
        "outputId": "fdadf592-c0cf-49e5-a6c9-c0e8a1f308c9"
      },
      "execution_count": null,
      "outputs": [
        {
          "output_type": "stream",
          "name": "stdout",
          "text": [
            "root\n",
            " |-- strand: integer (nullable = true)\n",
            " |-- 000: double (nullable = true)\n",
            " |-- 001: double (nullable = true)\n",
            " |-- 010: double (nullable = true)\n",
            " |-- 011: double (nullable = true)\n",
            " |-- 100: double (nullable = true)\n",
            " |-- 101: double (nullable = true)\n",
            " |-- 110: double (nullable = true)\n",
            " |-- 111: double (nullable = true)\n",
            " |-- Tissue: string (nullable = true)\n",
            " |-- CpG_1: double (nullable = true)\n",
            " |-- CpG_2: double (nullable = true)\n",
            " |-- CpG_3: double (nullable = true)\n",
            "\n",
            "+------+--------------------+--------------------+---+---+---+---+---+--------------------+------+-------------------+------------------+-------------------+\n",
            "|strand|                 000|                 001|010|011|100|101|110|                 111|Tissue|              CpG_1|             CpG_2|              CpG_3|\n",
            "+------+--------------------+--------------------+---+---+---+---+---+--------------------+------+-------------------+------------------+-------------------+\n",
            "|     0| 0.07472939217318901|0.003157894736842105|0.0|0.0|0.0|0.0|0.0|4.551661356395084E-4| cfDNA|0.45323708137250424|0.4524843442885222|0.45061671996345365|\n",
            "|     0| 0.07535387177352207|                 0.0|0.0|0.0|0.0|0.0|0.0|4.551661356395084E-4| cfDNA|0.45323708137250424|0.4524843442885222| 0.4509365006852444|\n",
            "|     0| 0.07417429919511519|0.005964912280701...|0.0|0.0|0.0|0.0|0.0|4.551661356395084E-4| cfDNA|0.45323708137250424|0.4524843442885222|0.45116491548652354|\n",
            "|     0| 0.07438245906189286|0.004912280701754386|0.0|0.0|0.0|0.0|0.0|4.551661356395084E-4| cfDNA|0.45323708137250424|0.4524843442885222|0.45175879396984925|\n",
            "|     0| 0.07535387177352207|                 0.0|0.0|0.0|0.0|0.0|0.0|4.551661356395084E-4| cfDNA|0.45323708137250424|0.4524843442885222|0.45194152581087255|\n",
            "|     0| 0.07535387177352207|                 0.0|0.0|0.0|0.0|0.0|0.0|4.551661356395084E-4| cfDNA|0.45323708137250424|0.4524843442885222|0.45221562357240747|\n",
            "|     0| 0.07264779350541216|0.003157894736842105|0.0|0.0|0.0|0.0|0.0|4.551661356395084E-4| cfDNA|0.45323708137250424|0.4524843442885222|0.45253540429419825|\n",
            "|     0| 0.07327227310574522|                 0.0|0.0|0.0|0.0|0.0|0.0|4.551661356395084E-4| cfDNA|0.45323708137250424|0.4524843442885222|0.45290086797624485|\n",
            "|     0| 0.07313349986122676|                 0.0|0.0|0.0|0.0|0.0|0.0|4.551661356395084E-4| cfDNA|0.45323708137250424|0.4524843442885222| 0.4531749657377798|\n",
            "|     0| 0.06973355537052456| 0.01719298245614035|0.0|0.0|0.0|0.0|0.0|4.551661356395084E-4| cfDNA|0.45323708137250424|0.4524843442885222| 0.4534947464595706|\n",
            "|     0| 0.07320288648348598|                 0.0|0.0|0.0|0.0|0.0|0.0|4.551661356395084E-4| cfDNA|0.45323708137250424|0.4524843442885222|0.45358611238008223|\n",
            "|     0| 0.06626422425756315|                 0.0|0.0|0.0|0.0|0.0|0.0|2.275830678197542E-4| cfDNA|0.45323708137250424|0.4524843442885222|  0.453905893101873|\n",
            "|     0| 0.06293366638912018|                 0.0|0.0|0.0|0.0|0.0|0.0|2.275830678197542E-4| cfDNA|0.45323708137250424|0.4524843442885222| 0.4540429419826405|\n",
            "|     0| 0.05530113794060505|                 0.0|0.0|0.0|0.0|0.0|0.0|                 0.0| cfDNA|0.45323708137250424|0.4524843442885222| 0.4544540886249429|\n",
            "|     0| 0.05301137940605051|0.011228070175438596|0.0|0.0|0.0|0.0|0.0|                 0.0| cfDNA|0.45323708137250424|0.4524843442885222| 0.4545911375057104|\n",
            "|     0| 0.04301970580072162|                 0.0|0.0|0.0|0.0|0.0|0.0|                 0.0| cfDNA|0.45323708137250424|0.4524843442885222| 0.4549109182275011|\n",
            "|     0| 0.03122398001665279|                 0.0|0.0|0.0|0.0|0.0|0.0|                 0.0| cfDNA|0.45323708137250424|0.4524843442885222| 0.4551850159890361|\n",
            "|     0| 0.03122398001665279|                 0.0|0.0|0.0|0.0|0.0|0.0|                 0.0| cfDNA|0.45323708137250424|0.4524843442885222| 0.4553677478300594|\n",
            "|     0|0.025256730502359145|                 0.0|0.0|0.0|0.0|0.0|0.0|                 0.0| cfDNA|0.45323708137250424|0.4524843442885222| 0.4557788944723618|\n",
            "|     0|0.023036358590063834|                 0.0|0.0|0.0|0.0|0.0|0.0|                 0.0| cfDNA|0.45323708137250424|0.4524843442885222| 0.4559159433531293|\n",
            "+------+--------------------+--------------------+---+---+---+---+---+--------------------+------+-------------------+------------------+-------------------+\n",
            "only showing top 20 rows\n",
            "\n"
          ]
        }
      ]
    },
    {
      "cell_type": "code",
      "source": [
        "from pyspark.ml.feature import VectorAssembler\n"
      ],
      "metadata": {
        "id": "XqiCWTQn2egh"
      },
      "execution_count": null,
      "outputs": []
    },
    {
      "cell_type": "code",
      "source": [
        "# Step 1: Install necessary libraries\n",
        "\n",
        "# Step 6: Prepare features and labels\n",
        "feature_columns = ['000', '001', '010', '011', '100', '101', '110', '111', 'CpG_1', 'CpG_2', 'CpG_3']\n",
        "assembler = VectorAssembler(inputCols=feature_columns, outputCol='features')\n",
        "df_transformed = assembler.transform(df)"
      ],
      "metadata": {
        "id": "DA6hT2fWFAlU"
      },
      "execution_count": null,
      "outputs": []
    },
    {
      "cell_type": "code",
      "source": [
        "from pyspark.ml.feature import StringIndexer\n",
        "\n",
        "# Create a StringIndexer to convert 'Tissue' to numeric\n",
        "indexer = StringIndexer(inputCol=\"Tissue\", outputCol=\"Tissue_indexed\")\n",
        "\n",
        "# Fit the indexer on the data and transform\n",
        "indexed_df = indexer.fit(df_transformed).transform(df_transformed)"
      ],
      "metadata": {
        "id": "JIKG628hIJaO"
      },
      "execution_count": null,
      "outputs": []
    },
    {
      "cell_type": "code",
      "source": [
        "# Step 7: Split the data into training and testing sets\n",
        "train_df, test_df = indexed_df.randomSplit([0.7, 0.3], seed=42)"
      ],
      "metadata": {
        "id": "oZlGXe2kIVBD"
      },
      "execution_count": null,
      "outputs": []
    },
    {
      "cell_type": "code",
      "source": [
        "\n",
        "# Update the labelCol to use the indexed column\n",
        "rf = RandomForestClassifier(featuresCol='features', labelCol='Tissue_indexed', numTrees=100)\n",
        "\n",
        "model = rf.fit(indexed_df)"
      ],
      "metadata": {
        "id": "M_4EhsiD_trj"
      },
      "execution_count": null,
      "outputs": []
    },
    {
      "cell_type": "code",
      "source": [
        "\n",
        "importances = model.featureImportances\n",
        "print(\"Feature Importances:\")\n",
        "for col, importance in zip(feature_columns, importances):\n",
        "    print(f\"{col}: {importance}\")\n",
        "\n",
        "\n",
        "predictions = model.transform(test_df)\n",
        "predictions.select('Tissue', 'prediction').show()\n"
      ],
      "metadata": {
        "id": "1Cqh0mYc3Soj",
        "colab": {
          "base_uri": "https://localhost:8080/"
        },
        "outputId": "d151c173-1ff5-44e3-a186-aec31e07200f"
      },
      "execution_count": null,
      "outputs": [
        {
          "output_type": "stream",
          "name": "stdout",
          "text": [
            "Feature Importances:\n",
            "000: 0.5508724833003564\n",
            "001: 0.033179412949510524\n",
            "010: 0.049460542663780825\n",
            "011: 0.020231926455488665\n",
            "100: 0.09587597929801375\n",
            "101: 0.06367075454053728\n",
            "110: 0.02173009661668143\n",
            "111: 0.020674414166899847\n",
            "CpG_1: 0.05806796380022913\n",
            "CpG_2: 0.037626590191887674\n",
            "CpG_3: 0.04860983601661431\n",
            "+------+----------+\n",
            "|Tissue|prediction|\n",
            "+------+----------+\n",
            "| cfDNA|       0.0|\n",
            "| cfDNA|       0.0|\n",
            "| cfDNA|       0.0|\n",
            "| cfDNA|       0.0|\n",
            "| cfDNA|       0.0|\n",
            "| cfDNA|       0.0|\n",
            "| cfDNA|       0.0|\n",
            "| cfDNA|       0.0|\n",
            "| cfDNA|       0.0|\n",
            "| cfDNA|       0.0|\n",
            "| cfDNA|       0.0|\n",
            "| cfDNA|       0.0|\n",
            "| cfDNA|       0.0|\n",
            "| cfDNA|       0.0|\n",
            "| cfDNA|       0.0|\n",
            "| cfDNA|       0.0|\n",
            "| cfDNA|       0.0|\n",
            "| cfDNA|       0.0|\n",
            "| cfDNA|       0.0|\n",
            "| cfDNA|       0.0|\n",
            "+------+----------+\n",
            "only showing top 20 rows\n",
            "\n"
          ]
        }
      ]
    },
    {
      "cell_type": "markdown",
      "source": [
        "**From the above feature importance result, it can be observed that out of all PMPs, `0001 is contributing maximum in discriminating cfDNA and Islet**"
      ],
      "metadata": {
        "id": "O8N2LcWEpGTc"
      }
    },
    {
      "cell_type": "code",
      "source": [
        "from pyspark.ml.evaluation import MulticlassClassificationEvaluator, BinaryClassificationEvaluator\n",
        "from pyspark.mllib.evaluation import BinaryClassificationMetrics"
      ],
      "metadata": {
        "id": "jXhSdTTxvllv"
      },
      "execution_count": null,
      "outputs": []
    },
    {
      "cell_type": "code",
      "source": [
        "model.save(\"/content/drive/MyDrive/phased_methylation_pattern/rf_model\")"
      ],
      "metadata": {
        "id": "y9C1szF7xefy"
      },
      "execution_count": null,
      "outputs": []
    },
    {
      "cell_type": "code",
      "source": [
        "rf_predictions_test = model.transform(test_df)"
      ],
      "metadata": {
        "id": "w72xz6kvwPcA"
      },
      "execution_count": null,
      "outputs": []
    },
    {
      "cell_type": "code",
      "source": [
        "rf_predictions_train = model.transform(train_df)"
      ],
      "metadata": {
        "id": "O71TjzWawrMa"
      },
      "execution_count": null,
      "outputs": []
    },
    {
      "cell_type": "code",
      "source": [
        "\n",
        "# Evaluate on test data\n",
        "# Accuracy\n",
        "test_accuracy_evaluator = MulticlassClassificationEvaluator(labelCol=\"Tissue_indexed\", predictionCol=\"prediction\", metricName=\"accuracy\")\n",
        "test_accuracy = test_accuracy_evaluator.evaluate(rf_predictions_test)"
      ],
      "metadata": {
        "id": "vDyJ7wiMvzmI"
      },
      "execution_count": null,
      "outputs": []
    },
    {
      "cell_type": "code",
      "source": [
        "test_accuracy"
      ],
      "metadata": {
        "colab": {
          "base_uri": "https://localhost:8080/"
        },
        "id": "BPkeBNSbyuIh",
        "outputId": "5f51018c-bb81-4148-ed5c-d16e4e9f93a0"
      },
      "execution_count": null,
      "outputs": [
        {
          "output_type": "execute_result",
          "data": {
            "text/plain": [
              "0.7930496050646033"
            ]
          },
          "metadata": {},
          "execution_count": 21
        }
      ]
    },
    {
      "cell_type": "code",
      "source": [
        "\n",
        "# Evaluate on train data\n",
        "# Accuracy\n",
        "train_accuracy_evaluator = MulticlassClassificationEvaluator(labelCol=\"Tissue_indexed\", predictionCol=\"prediction\", metricName=\"accuracy\")\n",
        "train_accuracy = train_accuracy_evaluator.evaluate(rf_predictions_train)"
      ],
      "metadata": {
        "id": "jQAaH30r1ZA1"
      },
      "execution_count": null,
      "outputs": []
    },
    {
      "cell_type": "code",
      "source": [
        "train_accuracy"
      ],
      "metadata": {
        "colab": {
          "base_uri": "https://localhost:8080/"
        },
        "id": "-fXRsK9k3MUf",
        "outputId": "8096a94d-8667-4e36-f85b-5b5762dea933"
      },
      "execution_count": null,
      "outputs": [
        {
          "output_type": "execute_result",
          "data": {
            "text/plain": [
              "0.7930666178230422"
            ]
          },
          "metadata": {},
          "execution_count": 27
        }
      ]
    },
    {
      "cell_type": "code",
      "source": [
        "from pyspark.ml.evaluation import BinaryClassificationEvaluator, MulticlassClassificationEvaluator\n",
        "\n",
        "\n",
        "\n",
        "# Assuming 'Tissue_indexed' is a binary label:\n",
        "test_roc_evaluator = BinaryClassificationEvaluator(labelCol=\"Tissue_indexed\", rawPredictionCol=\"rawPrediction\", metricName=\"areaUnderROC\")\n",
        "\n",
        "# OR, if 'Tissue_indexed' is multiclass, use MulticlassClassificationEvaluator with 'areaUnderROC':\n",
        "# test_roc_evaluator = MulticlassClassificationEvaluator(labelCol=\"Tissue_indexed\", predictionCol=\"prediction\", metricName=\"areaUnderROC\")\n",
        "\n",
        "test_roc_auc = test_roc_evaluator.evaluate(rf_predictions_test)"
      ],
      "metadata": {
        "id": "55c6wrXdzpjh"
      },
      "execution_count": null,
      "outputs": []
    },
    {
      "cell_type": "code",
      "source": [
        "test_roc_auc"
      ],
      "metadata": {
        "colab": {
          "base_uri": "https://localhost:8080/"
        },
        "id": "lBzODEQ11Gc-",
        "outputId": "d39a72de-987d-42e7-b52f-18f944ff20d9"
      },
      "execution_count": null,
      "outputs": [
        {
          "output_type": "execute_result",
          "data": {
            "text/plain": [
              "0.8371008664916569"
            ]
          },
          "metadata": {},
          "execution_count": 25
        }
      ]
    },
    {
      "cell_type": "code",
      "source": [
        "# AUC-ROC (assuming binary classification)\n",
        "train_roc_evaluator = BinaryClassificationEvaluator(labelCol=\"Tissue_indexed\", rawPredictionCol=\"rawPrediction\")\n",
        "train_roc_auc = train_roc_evaluator.evaluate(rf_predictions_train)"
      ],
      "metadata": {
        "id": "VvoHMsd149zn"
      },
      "execution_count": null,
      "outputs": []
    },
    {
      "cell_type": "code",
      "source": [
        "train_roc_auc"
      ],
      "metadata": {
        "colab": {
          "base_uri": "https://localhost:8080/"
        },
        "id": "WeLAT7eI5RJh",
        "outputId": "af16fbf1-053c-4a38-f6d0-8dd2d53c1720"
      },
      "execution_count": null,
      "outputs": [
        {
          "output_type": "execute_result",
          "data": {
            "text/plain": [
              "0.8372336469694129"
            ]
          },
          "metadata": {},
          "execution_count": 30
        }
      ]
    },
    {
      "cell_type": "code",
      "source": [
        "\n",
        "\n",
        "test_metrics = BinaryClassificationMetrics(rf_predictions_test.select('label', 'prediction').rdd.map(lambda x: (float(x[1]), float(x[0]))))\n",
        "test_mcc = test_metrics.areaUnderPR\n",
        "\n",
        "train_metrics = BinaryClassificationMetrics(rf_predictions_train.select('label', 'prediction').rdd.map(lambda x: (float(x[1]), float(x[0]))))\n",
        "train_mcc = train_metrics.areaUnderPR\n",
        "\n",
        "# Print results\n",
        "print(f\"Test Accuracy: {test_accuracy}\")\n",
        "print(f\"Test AUC-ROC: {test_roc_auc}\")\n",
        "print(f\"Test MCC: {test_mcc}\")\n",
        "print(f\"Train Accuracy: {train_accuracy}\")\n",
        "print(f\"Train AUC-ROC: {train_roc_auc}\")\n",
        "print(f\"Train MCC: {train_mcc}\")\n"
      ],
      "metadata": {
        "id": "SKRXJCuhzjFx"
      },
      "execution_count": null,
      "outputs": []
    },
    {
      "cell_type": "code",
      "source": [
        "\n",
        "feature_columns = ['feature1', 'feature2', 'feature3']\n",
        "assembler = VectorAssembler(inputCols=feature_columns, outputCol='features')\n",
        "df_transformed = assembler.transform(df)\n",
        "\n",
        "rf = RandomForestClassifier(featuresCol='features', labelCol='target')\n",
        "model = rf.fit(df_transformed)\n"
      ],
      "metadata": {
        "id": "bpmcRrNQ2WOf"
      },
      "execution_count": null,
      "outputs": []
    },
    {
      "cell_type": "code",
      "execution_count": null,
      "metadata": {
        "id": "52iQlsmPcQmw"
      },
      "outputs": [],
      "source": [
        "#ddf = dd.read_csv('/content/drive/MyDrive/phased_methylation_pattern/normalized_data.csv')\n"
      ]
    },
    {
      "cell_type": "code",
      "source": [
        "ddf.info()"
      ],
      "metadata": {
        "colab": {
          "base_uri": "https://localhost:8080/"
        },
        "id": "c5JE9BSochW2",
        "outputId": "31ac4eca-70d0-4008-d399-315d0d21f63f"
      },
      "execution_count": null,
      "outputs": [
        {
          "output_type": "stream",
          "name": "stdout",
          "text": [
            "<class 'dask_expr.DataFrame'>\n",
            "Columns: 13 entries, strand to CpG_3\n",
            "dtypes: float64(11), int64(1), string(1)"
          ]
        }
      ]
    },
    {
      "cell_type": "code",
      "source": [
        "ddf.tail(5)\n"
      ],
      "metadata": {
        "colab": {
          "base_uri": "https://localhost:8080/",
          "height": 206
        },
        "id": "4AXx65kJ_Bab",
        "outputId": "e9bb712f-45ea-42bd-e60a-0136536aff11"
      },
      "execution_count": null,
      "outputs": [
        {
          "output_type": "execute_result",
          "data": {
            "text/plain": [
              "          strand      `000  `001  `010  `011  `100  `101  `110  `111 Tissue  \\\n",
              "15392178       1  0.005273   0.0   0.0   0.0   0.0   0.0   0.0   0.0  Islet   \n",
              "15392179       1  0.003261   0.0   0.0   0.0   0.0   0.0   0.0   0.0  Islet   \n",
              "15392180       1  0.005273   0.0   0.0   0.0   0.0   0.0   0.0   0.0  Islet   \n",
              "15392181       1  0.003261   0.0   0.0   0.0   0.0   0.0   0.0   0.0  Islet   \n",
              "15392182       1  0.003261   0.0   0.0   0.0   0.0   0.0   0.0   0.0  Islet   \n",
              "\n",
              "             CpG_1     CpG_2     CpG_3  \n",
              "15392178  0.451547  0.456004  0.454591  \n",
              "15392179  0.451547  0.456004  0.454911  \n",
              "15392180  0.451547  0.456415  0.454591  \n",
              "15392181  0.451547  0.456415  0.454911  \n",
              "15392182  0.451547  0.456553  0.454911  "
            ],
            "text/html": [
              "\n",
              "  <div id=\"df-b63b4b81-04e8-47b2-b855-b1528a835a6c\" class=\"colab-df-container\">\n",
              "    <div>\n",
              "<style scoped>\n",
              "    .dataframe tbody tr th:only-of-type {\n",
              "        vertical-align: middle;\n",
              "    }\n",
              "\n",
              "    .dataframe tbody tr th {\n",
              "        vertical-align: top;\n",
              "    }\n",
              "\n",
              "    .dataframe thead th {\n",
              "        text-align: right;\n",
              "    }\n",
              "</style>\n",
              "<table border=\"1\" class=\"dataframe\">\n",
              "  <thead>\n",
              "    <tr style=\"text-align: right;\">\n",
              "      <th></th>\n",
              "      <th>strand</th>\n",
              "      <th>`000</th>\n",
              "      <th>`001</th>\n",
              "      <th>`010</th>\n",
              "      <th>`011</th>\n",
              "      <th>`100</th>\n",
              "      <th>`101</th>\n",
              "      <th>`110</th>\n",
              "      <th>`111</th>\n",
              "      <th>Tissue</th>\n",
              "      <th>CpG_1</th>\n",
              "      <th>CpG_2</th>\n",
              "      <th>CpG_3</th>\n",
              "    </tr>\n",
              "  </thead>\n",
              "  <tbody>\n",
              "    <tr>\n",
              "      <th>15392178</th>\n",
              "      <td>1</td>\n",
              "      <td>0.005273</td>\n",
              "      <td>0.0</td>\n",
              "      <td>0.0</td>\n",
              "      <td>0.0</td>\n",
              "      <td>0.0</td>\n",
              "      <td>0.0</td>\n",
              "      <td>0.0</td>\n",
              "      <td>0.0</td>\n",
              "      <td>Islet</td>\n",
              "      <td>0.451547</td>\n",
              "      <td>0.456004</td>\n",
              "      <td>0.454591</td>\n",
              "    </tr>\n",
              "    <tr>\n",
              "      <th>15392179</th>\n",
              "      <td>1</td>\n",
              "      <td>0.003261</td>\n",
              "      <td>0.0</td>\n",
              "      <td>0.0</td>\n",
              "      <td>0.0</td>\n",
              "      <td>0.0</td>\n",
              "      <td>0.0</td>\n",
              "      <td>0.0</td>\n",
              "      <td>0.0</td>\n",
              "      <td>Islet</td>\n",
              "      <td>0.451547</td>\n",
              "      <td>0.456004</td>\n",
              "      <td>0.454911</td>\n",
              "    </tr>\n",
              "    <tr>\n",
              "      <th>15392180</th>\n",
              "      <td>1</td>\n",
              "      <td>0.005273</td>\n",
              "      <td>0.0</td>\n",
              "      <td>0.0</td>\n",
              "      <td>0.0</td>\n",
              "      <td>0.0</td>\n",
              "      <td>0.0</td>\n",
              "      <td>0.0</td>\n",
              "      <td>0.0</td>\n",
              "      <td>Islet</td>\n",
              "      <td>0.451547</td>\n",
              "      <td>0.456415</td>\n",
              "      <td>0.454591</td>\n",
              "    </tr>\n",
              "    <tr>\n",
              "      <th>15392181</th>\n",
              "      <td>1</td>\n",
              "      <td>0.003261</td>\n",
              "      <td>0.0</td>\n",
              "      <td>0.0</td>\n",
              "      <td>0.0</td>\n",
              "      <td>0.0</td>\n",
              "      <td>0.0</td>\n",
              "      <td>0.0</td>\n",
              "      <td>0.0</td>\n",
              "      <td>Islet</td>\n",
              "      <td>0.451547</td>\n",
              "      <td>0.456415</td>\n",
              "      <td>0.454911</td>\n",
              "    </tr>\n",
              "    <tr>\n",
              "      <th>15392182</th>\n",
              "      <td>1</td>\n",
              "      <td>0.003261</td>\n",
              "      <td>0.0</td>\n",
              "      <td>0.0</td>\n",
              "      <td>0.0</td>\n",
              "      <td>0.0</td>\n",
              "      <td>0.0</td>\n",
              "      <td>0.0</td>\n",
              "      <td>0.0</td>\n",
              "      <td>Islet</td>\n",
              "      <td>0.451547</td>\n",
              "      <td>0.456553</td>\n",
              "      <td>0.454911</td>\n",
              "    </tr>\n",
              "  </tbody>\n",
              "</table>\n",
              "</div>\n",
              "    <div class=\"colab-df-buttons\">\n",
              "\n",
              "  <div class=\"colab-df-container\">\n",
              "    <button class=\"colab-df-convert\" onclick=\"convertToInteractive('df-b63b4b81-04e8-47b2-b855-b1528a835a6c')\"\n",
              "            title=\"Convert this dataframe to an interactive table.\"\n",
              "            style=\"display:none;\">\n",
              "\n",
              "  <svg xmlns=\"http://www.w3.org/2000/svg\" height=\"24px\" viewBox=\"0 -960 960 960\">\n",
              "    <path d=\"M120-120v-720h720v720H120Zm60-500h600v-160H180v160Zm220 220h160v-160H400v160Zm0 220h160v-160H400v160ZM180-400h160v-160H180v160Zm440 0h160v-160H620v160ZM180-180h160v-160H180v160Zm440 0h160v-160H620v160Z\"/>\n",
              "  </svg>\n",
              "    </button>\n",
              "\n",
              "  <style>\n",
              "    .colab-df-container {\n",
              "      display:flex;\n",
              "      gap: 12px;\n",
              "    }\n",
              "\n",
              "    .colab-df-convert {\n",
              "      background-color: #E8F0FE;\n",
              "      border: none;\n",
              "      border-radius: 50%;\n",
              "      cursor: pointer;\n",
              "      display: none;\n",
              "      fill: #1967D2;\n",
              "      height: 32px;\n",
              "      padding: 0 0 0 0;\n",
              "      width: 32px;\n",
              "    }\n",
              "\n",
              "    .colab-df-convert:hover {\n",
              "      background-color: #E2EBFA;\n",
              "      box-shadow: 0px 1px 2px rgba(60, 64, 67, 0.3), 0px 1px 3px 1px rgba(60, 64, 67, 0.15);\n",
              "      fill: #174EA6;\n",
              "    }\n",
              "\n",
              "    .colab-df-buttons div {\n",
              "      margin-bottom: 4px;\n",
              "    }\n",
              "\n",
              "    [theme=dark] .colab-df-convert {\n",
              "      background-color: #3B4455;\n",
              "      fill: #D2E3FC;\n",
              "    }\n",
              "\n",
              "    [theme=dark] .colab-df-convert:hover {\n",
              "      background-color: #434B5C;\n",
              "      box-shadow: 0px 1px 3px 1px rgba(0, 0, 0, 0.15);\n",
              "      filter: drop-shadow(0px 1px 2px rgba(0, 0, 0, 0.3));\n",
              "      fill: #FFFFFF;\n",
              "    }\n",
              "  </style>\n",
              "\n",
              "    <script>\n",
              "      const buttonEl =\n",
              "        document.querySelector('#df-b63b4b81-04e8-47b2-b855-b1528a835a6c button.colab-df-convert');\n",
              "      buttonEl.style.display =\n",
              "        google.colab.kernel.accessAllowed ? 'block' : 'none';\n",
              "\n",
              "      async function convertToInteractive(key) {\n",
              "        const element = document.querySelector('#df-b63b4b81-04e8-47b2-b855-b1528a835a6c');\n",
              "        const dataTable =\n",
              "          await google.colab.kernel.invokeFunction('convertToInteractive',\n",
              "                                                    [key], {});\n",
              "        if (!dataTable) return;\n",
              "\n",
              "        const docLinkHtml = 'Like what you see? Visit the ' +\n",
              "          '<a target=\"_blank\" href=https://colab.research.google.com/notebooks/data_table.ipynb>data table notebook</a>'\n",
              "          + ' to learn more about interactive tables.';\n",
              "        element.innerHTML = '';\n",
              "        dataTable['output_type'] = 'display_data';\n",
              "        await google.colab.output.renderOutput(dataTable, element);\n",
              "        const docLink = document.createElement('div');\n",
              "        docLink.innerHTML = docLinkHtml;\n",
              "        element.appendChild(docLink);\n",
              "      }\n",
              "    </script>\n",
              "  </div>\n",
              "\n",
              "\n",
              "<div id=\"df-2d82a228-d34a-4773-96ed-b793cd301928\">\n",
              "  <button class=\"colab-df-quickchart\" onclick=\"quickchart('df-2d82a228-d34a-4773-96ed-b793cd301928')\"\n",
              "            title=\"Suggest charts\"\n",
              "            style=\"display:none;\">\n",
              "\n",
              "<svg xmlns=\"http://www.w3.org/2000/svg\" height=\"24px\"viewBox=\"0 0 24 24\"\n",
              "     width=\"24px\">\n",
              "    <g>\n",
              "        <path d=\"M19 3H5c-1.1 0-2 .9-2 2v14c0 1.1.9 2 2 2h14c1.1 0 2-.9 2-2V5c0-1.1-.9-2-2-2zM9 17H7v-7h2v7zm4 0h-2V7h2v10zm4 0h-2v-4h2v4z\"/>\n",
              "    </g>\n",
              "</svg>\n",
              "  </button>\n",
              "\n",
              "<style>\n",
              "  .colab-df-quickchart {\n",
              "      --bg-color: #E8F0FE;\n",
              "      --fill-color: #1967D2;\n",
              "      --hover-bg-color: #E2EBFA;\n",
              "      --hover-fill-color: #174EA6;\n",
              "      --disabled-fill-color: #AAA;\n",
              "      --disabled-bg-color: #DDD;\n",
              "  }\n",
              "\n",
              "  [theme=dark] .colab-df-quickchart {\n",
              "      --bg-color: #3B4455;\n",
              "      --fill-color: #D2E3FC;\n",
              "      --hover-bg-color: #434B5C;\n",
              "      --hover-fill-color: #FFFFFF;\n",
              "      --disabled-bg-color: #3B4455;\n",
              "      --disabled-fill-color: #666;\n",
              "  }\n",
              "\n",
              "  .colab-df-quickchart {\n",
              "    background-color: var(--bg-color);\n",
              "    border: none;\n",
              "    border-radius: 50%;\n",
              "    cursor: pointer;\n",
              "    display: none;\n",
              "    fill: var(--fill-color);\n",
              "    height: 32px;\n",
              "    padding: 0;\n",
              "    width: 32px;\n",
              "  }\n",
              "\n",
              "  .colab-df-quickchart:hover {\n",
              "    background-color: var(--hover-bg-color);\n",
              "    box-shadow: 0 1px 2px rgba(60, 64, 67, 0.3), 0 1px 3px 1px rgba(60, 64, 67, 0.15);\n",
              "    fill: var(--button-hover-fill-color);\n",
              "  }\n",
              "\n",
              "  .colab-df-quickchart-complete:disabled,\n",
              "  .colab-df-quickchart-complete:disabled:hover {\n",
              "    background-color: var(--disabled-bg-color);\n",
              "    fill: var(--disabled-fill-color);\n",
              "    box-shadow: none;\n",
              "  }\n",
              "\n",
              "  .colab-df-spinner {\n",
              "    border: 2px solid var(--fill-color);\n",
              "    border-color: transparent;\n",
              "    border-bottom-color: var(--fill-color);\n",
              "    animation:\n",
              "      spin 1s steps(1) infinite;\n",
              "  }\n",
              "\n",
              "  @keyframes spin {\n",
              "    0% {\n",
              "      border-color: transparent;\n",
              "      border-bottom-color: var(--fill-color);\n",
              "      border-left-color: var(--fill-color);\n",
              "    }\n",
              "    20% {\n",
              "      border-color: transparent;\n",
              "      border-left-color: var(--fill-color);\n",
              "      border-top-color: var(--fill-color);\n",
              "    }\n",
              "    30% {\n",
              "      border-color: transparent;\n",
              "      border-left-color: var(--fill-color);\n",
              "      border-top-color: var(--fill-color);\n",
              "      border-right-color: var(--fill-color);\n",
              "    }\n",
              "    40% {\n",
              "      border-color: transparent;\n",
              "      border-right-color: var(--fill-color);\n",
              "      border-top-color: var(--fill-color);\n",
              "    }\n",
              "    60% {\n",
              "      border-color: transparent;\n",
              "      border-right-color: var(--fill-color);\n",
              "    }\n",
              "    80% {\n",
              "      border-color: transparent;\n",
              "      border-right-color: var(--fill-color);\n",
              "      border-bottom-color: var(--fill-color);\n",
              "    }\n",
              "    90% {\n",
              "      border-color: transparent;\n",
              "      border-bottom-color: var(--fill-color);\n",
              "    }\n",
              "  }\n",
              "</style>\n",
              "\n",
              "  <script>\n",
              "    async function quickchart(key) {\n",
              "      const quickchartButtonEl =\n",
              "        document.querySelector('#' + key + ' button');\n",
              "      quickchartButtonEl.disabled = true;  // To prevent multiple clicks.\n",
              "      quickchartButtonEl.classList.add('colab-df-spinner');\n",
              "      try {\n",
              "        const charts = await google.colab.kernel.invokeFunction(\n",
              "            'suggestCharts', [key], {});\n",
              "      } catch (error) {\n",
              "        console.error('Error during call to suggestCharts:', error);\n",
              "      }\n",
              "      quickchartButtonEl.classList.remove('colab-df-spinner');\n",
              "      quickchartButtonEl.classList.add('colab-df-quickchart-complete');\n",
              "    }\n",
              "    (() => {\n",
              "      let quickchartButtonEl =\n",
              "        document.querySelector('#df-2d82a228-d34a-4773-96ed-b793cd301928 button');\n",
              "      quickchartButtonEl.style.display =\n",
              "        google.colab.kernel.accessAllowed ? 'block' : 'none';\n",
              "    })();\n",
              "  </script>\n",
              "</div>\n",
              "\n",
              "    </div>\n",
              "  </div>\n"
            ],
            "application/vnd.google.colaboratory.intrinsic+json": {
              "type": "dataframe",
              "summary": "{\n  \"name\": \"ddf\",\n  \"rows\": 5,\n  \"fields\": [\n    {\n      \"column\": \"strand\",\n      \"properties\": {\n        \"dtype\": \"number\",\n        \"std\": 0,\n        \"min\": 1,\n        \"max\": 1,\n        \"num_unique_values\": 1,\n        \"samples\": [\n          1\n        ],\n        \"semantic_type\": \"\",\n        \"description\": \"\"\n      }\n    },\n    {\n      \"column\": \"`000\",\n      \"properties\": {\n        \"dtype\": \"number\",\n        \"std\": 0.0011021339278136015,\n        \"min\": 0.0032611712461837,\n        \"max\": 0.0052733832917013,\n        \"num_unique_values\": 2,\n        \"samples\": [\n          0.0032611712461837\n        ],\n        \"semantic_type\": \"\",\n        \"description\": \"\"\n      }\n    },\n    {\n      \"column\": \"`001\",\n      \"properties\": {\n        \"dtype\": \"number\",\n        \"std\": 0.0,\n        \"min\": 0.0,\n        \"max\": 0.0,\n        \"num_unique_values\": 1,\n        \"samples\": [\n          0.0\n        ],\n        \"semantic_type\": \"\",\n        \"description\": \"\"\n      }\n    },\n    {\n      \"column\": \"`010\",\n      \"properties\": {\n        \"dtype\": \"number\",\n        \"std\": 0.0,\n        \"min\": 0.0,\n        \"max\": 0.0,\n        \"num_unique_values\": 1,\n        \"samples\": [\n          0.0\n        ],\n        \"semantic_type\": \"\",\n        \"description\": \"\"\n      }\n    },\n    {\n      \"column\": \"`011\",\n      \"properties\": {\n        \"dtype\": \"number\",\n        \"std\": 0.0,\n        \"min\": 0.0,\n        \"max\": 0.0,\n        \"num_unique_values\": 1,\n        \"samples\": [\n          0.0\n        ],\n        \"semantic_type\": \"\",\n        \"description\": \"\"\n      }\n    },\n    {\n      \"column\": \"`100\",\n      \"properties\": {\n        \"dtype\": \"number\",\n        \"std\": 0.0,\n        \"min\": 0.0,\n        \"max\": 0.0,\n        \"num_unique_values\": 1,\n        \"samples\": [\n          0.0\n        ],\n        \"semantic_type\": \"\",\n        \"description\": \"\"\n      }\n    },\n    {\n      \"column\": \"`101\",\n      \"properties\": {\n        \"dtype\": \"number\",\n        \"std\": 0.0,\n        \"min\": 0.0,\n        \"max\": 0.0,\n        \"num_unique_values\": 1,\n        \"samples\": [\n          0.0\n        ],\n        \"semantic_type\": \"\",\n        \"description\": \"\"\n      }\n    },\n    {\n      \"column\": \"`110\",\n      \"properties\": {\n        \"dtype\": \"number\",\n        \"std\": 0.0,\n        \"min\": 0.0,\n        \"max\": 0.0,\n        \"num_unique_values\": 1,\n        \"samples\": [\n          0.0\n        ],\n        \"semantic_type\": \"\",\n        \"description\": \"\"\n      }\n    },\n    {\n      \"column\": \"`111\",\n      \"properties\": {\n        \"dtype\": \"number\",\n        \"std\": 0.0,\n        \"min\": 0.0,\n        \"max\": 0.0,\n        \"num_unique_values\": 1,\n        \"samples\": [\n          0.0\n        ],\n        \"semantic_type\": \"\",\n        \"description\": \"\"\n      }\n    },\n    {\n      \"column\": \"Tissue\",\n      \"properties\": {\n        \"dtype\": \"category\",\n        \"num_unique_values\": 1,\n        \"samples\": [\n          \"Islet\"\n        ],\n        \"semantic_type\": \"\",\n        \"description\": \"\"\n      }\n    },\n    {\n      \"column\": \"CpG_1\",\n      \"properties\": {\n        \"dtype\": \"number\",\n        \"std\": 0.0,\n        \"min\": 0.4515465801617398,\n        \"max\": 0.4515465801617398,\n        \"num_unique_values\": 1,\n        \"samples\": [\n          0.4515465801617398\n        ],\n        \"semantic_type\": \"\",\n        \"description\": \"\"\n      }\n    },\n    {\n      \"column\": \"CpG_2\",\n      \"properties\": {\n        \"dtype\": \"number\",\n        \"std\": 0.0002565473364794538,\n        \"min\": 0.4560040224893724,\n        \"max\": 0.456552543767427,\n        \"num_unique_values\": 3,\n        \"samples\": [\n          0.4560040224893724\n        ],\n        \"semantic_type\": \"\",\n        \"description\": \"\"\n      }\n    },\n    {\n      \"column\": \"CpG_3\",\n      \"properties\": {\n        \"dtype\": \"number\",\n        \"std\": 0.00017515111478006665,\n        \"min\": 0.4545911375057104,\n        \"max\": 0.4549109182275011,\n        \"num_unique_values\": 2,\n        \"samples\": [\n          0.4549109182275011\n        ],\n        \"semantic_type\": \"\",\n        \"description\": \"\"\n      }\n    }\n  ]\n}"
            }
          },
          "metadata": {},
          "execution_count": 12
        }
      ]
    },
    {
      "cell_type": "code",
      "source": [
        "ddf.value_counts('Tissue')"
      ],
      "metadata": {
        "colab": {
          "base_uri": "https://localhost:8080/",
          "height": 178
        },
        "id": "Ifzoq20PmY-5",
        "outputId": "9cfcf9f3-7923-4751-e4d2-704dd160cbdb"
      },
      "execution_count": null,
      "outputs": [
        {
          "output_type": "execute_result",
          "data": {
            "text/plain": [
              "Tissue\n",
              "cfDNA    11602083\n",
              "Islet     3790100\n",
              "Name: count, dtype: int64"
            ],
            "text/html": [
              "<div>\n",
              "<style scoped>\n",
              "    .dataframe tbody tr th:only-of-type {\n",
              "        vertical-align: middle;\n",
              "    }\n",
              "\n",
              "    .dataframe tbody tr th {\n",
              "        vertical-align: top;\n",
              "    }\n",
              "\n",
              "    .dataframe thead th {\n",
              "        text-align: right;\n",
              "    }\n",
              "</style>\n",
              "<table border=\"1\" class=\"dataframe\">\n",
              "  <thead>\n",
              "    <tr style=\"text-align: right;\">\n",
              "      <th></th>\n",
              "      <th>count</th>\n",
              "    </tr>\n",
              "    <tr>\n",
              "      <th>Tissue</th>\n",
              "      <th></th>\n",
              "    </tr>\n",
              "  </thead>\n",
              "  <tbody>\n",
              "    <tr>\n",
              "      <th>cfDNA</th>\n",
              "      <td>11602083</td>\n",
              "    </tr>\n",
              "    <tr>\n",
              "      <th>Islet</th>\n",
              "      <td>3790100</td>\n",
              "    </tr>\n",
              "  </tbody>\n",
              "</table>\n",
              "</div><br><label><b>dtype:</b> int64</label>"
            ]
          },
          "metadata": {},
          "execution_count": 13
        }
      ]
    },
    {
      "cell_type": "code",
      "source": [
        "ddf.head()"
      ],
      "metadata": {
        "colab": {
          "base_uri": "https://localhost:8080/",
          "height": 206
        },
        "id": "C3PjSpCAofuu",
        "outputId": "6fa1091c-2c0e-4ecf-97db-44fd70b298af"
      },
      "execution_count": null,
      "outputs": [
        {
          "output_type": "execute_result",
          "data": {
            "text/plain": [
              "   strand      `000      `001  `010  `011  `100  `101  `110      `111 Tissue  \\\n",
              "0       0  0.074729  0.003158   0.0   0.0   0.0   0.0   0.0  0.000455  cfDNA   \n",
              "1       0  0.075354  0.000000   0.0   0.0   0.0   0.0   0.0  0.000455  cfDNA   \n",
              "2       0  0.074174  0.005965   0.0   0.0   0.0   0.0   0.0  0.000455  cfDNA   \n",
              "3       0  0.074382  0.004912   0.0   0.0   0.0   0.0   0.0  0.000455  cfDNA   \n",
              "4       0  0.075354  0.000000   0.0   0.0   0.0   0.0   0.0  0.000455  cfDNA   \n",
              "\n",
              "      CpG_1     CpG_2     CpG_3  \n",
              "0  0.453237  0.452484  0.450617  \n",
              "1  0.453237  0.452484  0.450937  \n",
              "2  0.453237  0.452484  0.451165  \n",
              "3  0.453237  0.452484  0.451759  \n",
              "4  0.453237  0.452484  0.451942  "
            ],
            "text/html": [
              "\n",
              "  <div id=\"df-2ba74897-9857-4a15-8b1d-c229d7b5a9ce\" class=\"colab-df-container\">\n",
              "    <div>\n",
              "<style scoped>\n",
              "    .dataframe tbody tr th:only-of-type {\n",
              "        vertical-align: middle;\n",
              "    }\n",
              "\n",
              "    .dataframe tbody tr th {\n",
              "        vertical-align: top;\n",
              "    }\n",
              "\n",
              "    .dataframe thead th {\n",
              "        text-align: right;\n",
              "    }\n",
              "</style>\n",
              "<table border=\"1\" class=\"dataframe\">\n",
              "  <thead>\n",
              "    <tr style=\"text-align: right;\">\n",
              "      <th></th>\n",
              "      <th>strand</th>\n",
              "      <th>`000</th>\n",
              "      <th>`001</th>\n",
              "      <th>`010</th>\n",
              "      <th>`011</th>\n",
              "      <th>`100</th>\n",
              "      <th>`101</th>\n",
              "      <th>`110</th>\n",
              "      <th>`111</th>\n",
              "      <th>Tissue</th>\n",
              "      <th>CpG_1</th>\n",
              "      <th>CpG_2</th>\n",
              "      <th>CpG_3</th>\n",
              "    </tr>\n",
              "  </thead>\n",
              "  <tbody>\n",
              "    <tr>\n",
              "      <th>0</th>\n",
              "      <td>0</td>\n",
              "      <td>0.074729</td>\n",
              "      <td>0.003158</td>\n",
              "      <td>0.0</td>\n",
              "      <td>0.0</td>\n",
              "      <td>0.0</td>\n",
              "      <td>0.0</td>\n",
              "      <td>0.0</td>\n",
              "      <td>0.000455</td>\n",
              "      <td>cfDNA</td>\n",
              "      <td>0.453237</td>\n",
              "      <td>0.452484</td>\n",
              "      <td>0.450617</td>\n",
              "    </tr>\n",
              "    <tr>\n",
              "      <th>1</th>\n",
              "      <td>0</td>\n",
              "      <td>0.075354</td>\n",
              "      <td>0.000000</td>\n",
              "      <td>0.0</td>\n",
              "      <td>0.0</td>\n",
              "      <td>0.0</td>\n",
              "      <td>0.0</td>\n",
              "      <td>0.0</td>\n",
              "      <td>0.000455</td>\n",
              "      <td>cfDNA</td>\n",
              "      <td>0.453237</td>\n",
              "      <td>0.452484</td>\n",
              "      <td>0.450937</td>\n",
              "    </tr>\n",
              "    <tr>\n",
              "      <th>2</th>\n",
              "      <td>0</td>\n",
              "      <td>0.074174</td>\n",
              "      <td>0.005965</td>\n",
              "      <td>0.0</td>\n",
              "      <td>0.0</td>\n",
              "      <td>0.0</td>\n",
              "      <td>0.0</td>\n",
              "      <td>0.0</td>\n",
              "      <td>0.000455</td>\n",
              "      <td>cfDNA</td>\n",
              "      <td>0.453237</td>\n",
              "      <td>0.452484</td>\n",
              "      <td>0.451165</td>\n",
              "    </tr>\n",
              "    <tr>\n",
              "      <th>3</th>\n",
              "      <td>0</td>\n",
              "      <td>0.074382</td>\n",
              "      <td>0.004912</td>\n",
              "      <td>0.0</td>\n",
              "      <td>0.0</td>\n",
              "      <td>0.0</td>\n",
              "      <td>0.0</td>\n",
              "      <td>0.0</td>\n",
              "      <td>0.000455</td>\n",
              "      <td>cfDNA</td>\n",
              "      <td>0.453237</td>\n",
              "      <td>0.452484</td>\n",
              "      <td>0.451759</td>\n",
              "    </tr>\n",
              "    <tr>\n",
              "      <th>4</th>\n",
              "      <td>0</td>\n",
              "      <td>0.075354</td>\n",
              "      <td>0.000000</td>\n",
              "      <td>0.0</td>\n",
              "      <td>0.0</td>\n",
              "      <td>0.0</td>\n",
              "      <td>0.0</td>\n",
              "      <td>0.0</td>\n",
              "      <td>0.000455</td>\n",
              "      <td>cfDNA</td>\n",
              "      <td>0.453237</td>\n",
              "      <td>0.452484</td>\n",
              "      <td>0.451942</td>\n",
              "    </tr>\n",
              "  </tbody>\n",
              "</table>\n",
              "</div>\n",
              "    <div class=\"colab-df-buttons\">\n",
              "\n",
              "  <div class=\"colab-df-container\">\n",
              "    <button class=\"colab-df-convert\" onclick=\"convertToInteractive('df-2ba74897-9857-4a15-8b1d-c229d7b5a9ce')\"\n",
              "            title=\"Convert this dataframe to an interactive table.\"\n",
              "            style=\"display:none;\">\n",
              "\n",
              "  <svg xmlns=\"http://www.w3.org/2000/svg\" height=\"24px\" viewBox=\"0 -960 960 960\">\n",
              "    <path d=\"M120-120v-720h720v720H120Zm60-500h600v-160H180v160Zm220 220h160v-160H400v160Zm0 220h160v-160H400v160ZM180-400h160v-160H180v160Zm440 0h160v-160H620v160ZM180-180h160v-160H180v160Zm440 0h160v-160H620v160Z\"/>\n",
              "  </svg>\n",
              "    </button>\n",
              "\n",
              "  <style>\n",
              "    .colab-df-container {\n",
              "      display:flex;\n",
              "      gap: 12px;\n",
              "    }\n",
              "\n",
              "    .colab-df-convert {\n",
              "      background-color: #E8F0FE;\n",
              "      border: none;\n",
              "      border-radius: 50%;\n",
              "      cursor: pointer;\n",
              "      display: none;\n",
              "      fill: #1967D2;\n",
              "      height: 32px;\n",
              "      padding: 0 0 0 0;\n",
              "      width: 32px;\n",
              "    }\n",
              "\n",
              "    .colab-df-convert:hover {\n",
              "      background-color: #E2EBFA;\n",
              "      box-shadow: 0px 1px 2px rgba(60, 64, 67, 0.3), 0px 1px 3px 1px rgba(60, 64, 67, 0.15);\n",
              "      fill: #174EA6;\n",
              "    }\n",
              "\n",
              "    .colab-df-buttons div {\n",
              "      margin-bottom: 4px;\n",
              "    }\n",
              "\n",
              "    [theme=dark] .colab-df-convert {\n",
              "      background-color: #3B4455;\n",
              "      fill: #D2E3FC;\n",
              "    }\n",
              "\n",
              "    [theme=dark] .colab-df-convert:hover {\n",
              "      background-color: #434B5C;\n",
              "      box-shadow: 0px 1px 3px 1px rgba(0, 0, 0, 0.15);\n",
              "      filter: drop-shadow(0px 1px 2px rgba(0, 0, 0, 0.3));\n",
              "      fill: #FFFFFF;\n",
              "    }\n",
              "  </style>\n",
              "\n",
              "    <script>\n",
              "      const buttonEl =\n",
              "        document.querySelector('#df-2ba74897-9857-4a15-8b1d-c229d7b5a9ce button.colab-df-convert');\n",
              "      buttonEl.style.display =\n",
              "        google.colab.kernel.accessAllowed ? 'block' : 'none';\n",
              "\n",
              "      async function convertToInteractive(key) {\n",
              "        const element = document.querySelector('#df-2ba74897-9857-4a15-8b1d-c229d7b5a9ce');\n",
              "        const dataTable =\n",
              "          await google.colab.kernel.invokeFunction('convertToInteractive',\n",
              "                                                    [key], {});\n",
              "        if (!dataTable) return;\n",
              "\n",
              "        const docLinkHtml = 'Like what you see? Visit the ' +\n",
              "          '<a target=\"_blank\" href=https://colab.research.google.com/notebooks/data_table.ipynb>data table notebook</a>'\n",
              "          + ' to learn more about interactive tables.';\n",
              "        element.innerHTML = '';\n",
              "        dataTable['output_type'] = 'display_data';\n",
              "        await google.colab.output.renderOutput(dataTable, element);\n",
              "        const docLink = document.createElement('div');\n",
              "        docLink.innerHTML = docLinkHtml;\n",
              "        element.appendChild(docLink);\n",
              "      }\n",
              "    </script>\n",
              "  </div>\n",
              "\n",
              "\n",
              "<div id=\"df-d78ede0c-e633-471e-a824-33902bcfba3a\">\n",
              "  <button class=\"colab-df-quickchart\" onclick=\"quickchart('df-d78ede0c-e633-471e-a824-33902bcfba3a')\"\n",
              "            title=\"Suggest charts\"\n",
              "            style=\"display:none;\">\n",
              "\n",
              "<svg xmlns=\"http://www.w3.org/2000/svg\" height=\"24px\"viewBox=\"0 0 24 24\"\n",
              "     width=\"24px\">\n",
              "    <g>\n",
              "        <path d=\"M19 3H5c-1.1 0-2 .9-2 2v14c0 1.1.9 2 2 2h14c1.1 0 2-.9 2-2V5c0-1.1-.9-2-2-2zM9 17H7v-7h2v7zm4 0h-2V7h2v10zm4 0h-2v-4h2v4z\"/>\n",
              "    </g>\n",
              "</svg>\n",
              "  </button>\n",
              "\n",
              "<style>\n",
              "  .colab-df-quickchart {\n",
              "      --bg-color: #E8F0FE;\n",
              "      --fill-color: #1967D2;\n",
              "      --hover-bg-color: #E2EBFA;\n",
              "      --hover-fill-color: #174EA6;\n",
              "      --disabled-fill-color: #AAA;\n",
              "      --disabled-bg-color: #DDD;\n",
              "  }\n",
              "\n",
              "  [theme=dark] .colab-df-quickchart {\n",
              "      --bg-color: #3B4455;\n",
              "      --fill-color: #D2E3FC;\n",
              "      --hover-bg-color: #434B5C;\n",
              "      --hover-fill-color: #FFFFFF;\n",
              "      --disabled-bg-color: #3B4455;\n",
              "      --disabled-fill-color: #666;\n",
              "  }\n",
              "\n",
              "  .colab-df-quickchart {\n",
              "    background-color: var(--bg-color);\n",
              "    border: none;\n",
              "    border-radius: 50%;\n",
              "    cursor: pointer;\n",
              "    display: none;\n",
              "    fill: var(--fill-color);\n",
              "    height: 32px;\n",
              "    padding: 0;\n",
              "    width: 32px;\n",
              "  }\n",
              "\n",
              "  .colab-df-quickchart:hover {\n",
              "    background-color: var(--hover-bg-color);\n",
              "    box-shadow: 0 1px 2px rgba(60, 64, 67, 0.3), 0 1px 3px 1px rgba(60, 64, 67, 0.15);\n",
              "    fill: var(--button-hover-fill-color);\n",
              "  }\n",
              "\n",
              "  .colab-df-quickchart-complete:disabled,\n",
              "  .colab-df-quickchart-complete:disabled:hover {\n",
              "    background-color: var(--disabled-bg-color);\n",
              "    fill: var(--disabled-fill-color);\n",
              "    box-shadow: none;\n",
              "  }\n",
              "\n",
              "  .colab-df-spinner {\n",
              "    border: 2px solid var(--fill-color);\n",
              "    border-color: transparent;\n",
              "    border-bottom-color: var(--fill-color);\n",
              "    animation:\n",
              "      spin 1s steps(1) infinite;\n",
              "  }\n",
              "\n",
              "  @keyframes spin {\n",
              "    0% {\n",
              "      border-color: transparent;\n",
              "      border-bottom-color: var(--fill-color);\n",
              "      border-left-color: var(--fill-color);\n",
              "    }\n",
              "    20% {\n",
              "      border-color: transparent;\n",
              "      border-left-color: var(--fill-color);\n",
              "      border-top-color: var(--fill-color);\n",
              "    }\n",
              "    30% {\n",
              "      border-color: transparent;\n",
              "      border-left-color: var(--fill-color);\n",
              "      border-top-color: var(--fill-color);\n",
              "      border-right-color: var(--fill-color);\n",
              "    }\n",
              "    40% {\n",
              "      border-color: transparent;\n",
              "      border-right-color: var(--fill-color);\n",
              "      border-top-color: var(--fill-color);\n",
              "    }\n",
              "    60% {\n",
              "      border-color: transparent;\n",
              "      border-right-color: var(--fill-color);\n",
              "    }\n",
              "    80% {\n",
              "      border-color: transparent;\n",
              "      border-right-color: var(--fill-color);\n",
              "      border-bottom-color: var(--fill-color);\n",
              "    }\n",
              "    90% {\n",
              "      border-color: transparent;\n",
              "      border-bottom-color: var(--fill-color);\n",
              "    }\n",
              "  }\n",
              "</style>\n",
              "\n",
              "  <script>\n",
              "    async function quickchart(key) {\n",
              "      const quickchartButtonEl =\n",
              "        document.querySelector('#' + key + ' button');\n",
              "      quickchartButtonEl.disabled = true;  // To prevent multiple clicks.\n",
              "      quickchartButtonEl.classList.add('colab-df-spinner');\n",
              "      try {\n",
              "        const charts = await google.colab.kernel.invokeFunction(\n",
              "            'suggestCharts', [key], {});\n",
              "      } catch (error) {\n",
              "        console.error('Error during call to suggestCharts:', error);\n",
              "      }\n",
              "      quickchartButtonEl.classList.remove('colab-df-spinner');\n",
              "      quickchartButtonEl.classList.add('colab-df-quickchart-complete');\n",
              "    }\n",
              "    (() => {\n",
              "      let quickchartButtonEl =\n",
              "        document.querySelector('#df-d78ede0c-e633-471e-a824-33902bcfba3a button');\n",
              "      quickchartButtonEl.style.display =\n",
              "        google.colab.kernel.accessAllowed ? 'block' : 'none';\n",
              "    })();\n",
              "  </script>\n",
              "</div>\n",
              "\n",
              "    </div>\n",
              "  </div>\n"
            ],
            "application/vnd.google.colaboratory.intrinsic+json": {
              "type": "dataframe",
              "summary": "{\n  \"name\": \"ddf\",\n  \"rows\": 5,\n  \"fields\": [\n    {\n      \"column\": \"strand\",\n      \"properties\": {\n        \"dtype\": \"number\",\n        \"std\": 0,\n        \"min\": 0,\n        \"max\": 0,\n        \"num_unique_values\": 1,\n        \"samples\": [\n          0\n        ],\n        \"semantic_type\": \"\",\n        \"description\": \"\"\n      }\n    },\n    {\n      \"column\": \"`000\",\n      \"properties\": {\n        \"dtype\": \"number\",\n        \"std\": 0.0005441433229724609,\n        \"min\": 0.0741742991951151,\n        \"max\": 0.075353871773522,\n        \"num_unique_values\": 4,\n        \"samples\": [\n          0.075353871773522\n        ],\n        \"semantic_type\": \"\",\n        \"description\": \"\"\n      }\n    },\n    {\n      \"column\": \"`001\",\n      \"properties\": {\n        \"dtype\": \"number\",\n        \"std\": 0.0027516468669049015,\n        \"min\": 0.0,\n        \"max\": 0.0059649122807017,\n        \"num_unique_values\": 4,\n        \"samples\": [\n          0.0\n        ],\n        \"semantic_type\": \"\",\n        \"description\": \"\"\n      }\n    },\n    {\n      \"column\": \"`010\",\n      \"properties\": {\n        \"dtype\": \"number\",\n        \"std\": 0.0,\n        \"min\": 0.0,\n        \"max\": 0.0,\n        \"num_unique_values\": 1,\n        \"samples\": [\n          0.0\n        ],\n        \"semantic_type\": \"\",\n        \"description\": \"\"\n      }\n    },\n    {\n      \"column\": \"`011\",\n      \"properties\": {\n        \"dtype\": \"number\",\n        \"std\": 0.0,\n        \"min\": 0.0,\n        \"max\": 0.0,\n        \"num_unique_values\": 1,\n        \"samples\": [\n          0.0\n        ],\n        \"semantic_type\": \"\",\n        \"description\": \"\"\n      }\n    },\n    {\n      \"column\": \"`100\",\n      \"properties\": {\n        \"dtype\": \"number\",\n        \"std\": 0.0,\n        \"min\": 0.0,\n        \"max\": 0.0,\n        \"num_unique_values\": 1,\n        \"samples\": [\n          0.0\n        ],\n        \"semantic_type\": \"\",\n        \"description\": \"\"\n      }\n    },\n    {\n      \"column\": \"`101\",\n      \"properties\": {\n        \"dtype\": \"number\",\n        \"std\": 0.0,\n        \"min\": 0.0,\n        \"max\": 0.0,\n        \"num_unique_values\": 1,\n        \"samples\": [\n          0.0\n        ],\n        \"semantic_type\": \"\",\n        \"description\": \"\"\n      }\n    },\n    {\n      \"column\": \"`110\",\n      \"properties\": {\n        \"dtype\": \"number\",\n        \"std\": 0.0,\n        \"min\": 0.0,\n        \"max\": 0.0,\n        \"num_unique_values\": 1,\n        \"samples\": [\n          0.0\n        ],\n        \"semantic_type\": \"\",\n        \"description\": \"\"\n      }\n    },\n    {\n      \"column\": \"`111\",\n      \"properties\": {\n        \"dtype\": \"number\",\n        \"std\": 6.06087439757635e-20,\n        \"min\": 0.0004551661356395,\n        \"max\": 0.0004551661356395,\n        \"num_unique_values\": 1,\n        \"samples\": [\n          0.0004551661356395\n        ],\n        \"semantic_type\": \"\",\n        \"description\": \"\"\n      }\n    },\n    {\n      \"column\": \"Tissue\",\n      \"properties\": {\n        \"dtype\": \"category\",\n        \"num_unique_values\": 1,\n        \"samples\": [\n          \"cfDNA\"\n        ],\n        \"semantic_type\": \"\",\n        \"description\": \"\"\n      }\n    },\n    {\n      \"column\": \"CpG_1\",\n      \"properties\": {\n        \"dtype\": \"number\",\n        \"std\": 6.206335383118183e-17,\n        \"min\": 0.4532370813725042,\n        \"max\": 0.4532370813725042,\n        \"num_unique_values\": 1,\n        \"samples\": [\n          0.4532370813725042\n        ],\n        \"semantic_type\": \"\",\n        \"description\": \"\"\n      }\n    },\n    {\n      \"column\": \"CpG_2\",\n      \"properties\": {\n        \"dtype\": \"number\",\n        \"std\": 6.206335383118183e-17,\n        \"min\": 0.4524843442885222,\n        \"max\": 0.4524843442885222,\n        \"num_unique_values\": 1,\n        \"samples\": [\n          0.4524843442885222\n        ],\n        \"semantic_type\": \"\",\n        \"description\": \"\"\n      }\n    },\n    {\n      \"column\": \"CpG_3\",\n      \"properties\": {\n        \"dtype\": \"number\",\n        \"std\": 0.0005563201801140475,\n        \"min\": 0.4506167199634536,\n        \"max\": 0.4519415258108725,\n        \"num_unique_values\": 5,\n        \"samples\": [\n          0.4509365006852444\n        ],\n        \"semantic_type\": \"\",\n        \"description\": \"\"\n      }\n    }\n  ]\n}"
            }
          },
          "metadata": {},
          "execution_count": 18
        }
      ]
    },
    {
      "cell_type": "code",
      "source": [
        "#methylation_columns = ['000', '001', '010', '011', '100', '101', '110', '111']"
      ],
      "metadata": {
        "id": "Z2vXaXgloNgM"
      },
      "execution_count": null,
      "outputs": []
    },
    {
      "cell_type": "code",
      "source": [
        "ddf.info()"
      ],
      "metadata": {
        "colab": {
          "base_uri": "https://localhost:8080/"
        },
        "id": "2Eeff5Da8hIg",
        "outputId": "095fa9d3-82ba-4dba-d39e-09c4025c2895"
      },
      "execution_count": null,
      "outputs": [
        {
          "output_type": "stream",
          "name": "stdout",
          "text": [
            "<class 'dask_expr.DataFrame'>\n",
            "Columns: 13 entries, strand to CpG_3\n",
            "dtypes: category(1), float64(11), int64(1)"
          ]
        }
      ]
    },
    {
      "cell_type": "code",
      "source": [
        "#!nvidia-smi\n",
        "#!pip install cuml-cu11 dask-cuda --extra-index-url=https://pypi.ngc.nvidia.com\n"
      ],
      "metadata": {
        "id": "8uwHLC39G8Fz"
      },
      "execution_count": null,
      "outputs": []
    },
    {
      "cell_type": "code",
      "source": [
        "#!pip install cuml-cu11 --extra-index-url=https://pypi.ngc.nvidia.com\n",
        "#!apt install -y libcusparse11"
      ],
      "metadata": {
        "id": "XOppt1RkZ3-U"
      },
      "execution_count": null,
      "outputs": []
    },
    {
      "cell_type": "code",
      "source": [
        "\n",
        "X = ddf[['`000', '`001', '`010', '`011', '`100', '`101', '`110', '`111',\t'CpG_1',\t'CpG_2',\t'CpG_3']]\n",
        "y = ddf['Tissue']\n"
      ],
      "metadata": {
        "id": "FWG19Yw2By2j"
      },
      "execution_count": null,
      "outputs": []
    },
    {
      "cell_type": "code",
      "source": [
        "\n",
        "X = X.to_dask_array(lengths=True)\n",
        "y = y.to_dask_array(lengths=True)\n",
        "\n",
        "\n",
        "X_train, X_test, y_train, y_test = train_test_split(X, y, test_size=0.2, random_state=42)"
      ],
      "metadata": {
        "colab": {
          "base_uri": "https://localhost:8080/"
        },
        "id": "vn0QghO59Ot9",
        "outputId": "7a37a8d6-3b1e-4916-d758-423bdf43f3f7"
      },
      "execution_count": null,
      "outputs": [
        {
          "output_type": "stream",
          "name": "stderr",
          "text": [
            "/usr/local/lib/python3.10/dist-packages/dask/dataframe/core.py:3769: UserWarning: Dask currently has limited support for converting pandas extension dtypes to arrays. Converting category to object dtype.\n",
            "  warnings.warn(\n"
          ]
        }
      ]
    },
    {
      "cell_type": "code",
      "source": [
        "X_train.shape"
      ],
      "metadata": {
        "colab": {
          "base_uri": "https://localhost:8080/"
        },
        "id": "KdHolWyX_DDO",
        "outputId": "d8c260aa-b04d-436f-f72b-1b0edf07bb2f"
      },
      "execution_count": null,
      "outputs": [
        {
          "output_type": "execute_result",
          "data": {
            "text/plain": [
              "(12313746, 11)"
            ]
          },
          "metadata": {},
          "execution_count": 23
        }
      ]
    },
    {
      "cell_type": "code",
      "source": [
        "import dask_xgboost as dxgb\n",
        "from dask_ml.xgboost import DaskXGBClassifier  # Import DaskXGBClassifier from dask_ml.xgboost\n",
        "\n",
        "\n",
        "model = DaskXGBClassifier(n_estimators=100, use_label_encoder=True)  # Use DaskXGBClassifier directly\n",
        "model.fit(X_train, y_train)\n"
      ],
      "metadata": {
        "id": "g86kc2PoAT9W"
      },
      "execution_count": null,
      "outputs": []
    },
    {
      "cell_type": "code",
      "source": [
        "model = dxgb.DaskXGBClassifier(n_estimators=100, use_label_encoder=True)\n",
        "model.fit(X_train, y_train)"
      ],
      "metadata": {
        "id": "HgqCUsZS4Swo"
      },
      "execution_count": null,
      "outputs": []
    },
    {
      "cell_type": "code",
      "source": [
        "# Step 7: Calculate feature importance\n",
        "importance = model.get_booster().get_score(importance_type='gain')\n",
        "\n",
        "# Convert to DataFrame for better visualization\n",
        "importance_df = pd.DataFrame(importance.items(), columns=['Feature', 'Gain']).sort_values(by='Gain', ascending=False)\n",
        "\n",
        "# Step 8: Visualize feature importance\n",
        "plt.figure(figsize=(10, 6))\n",
        "plt.barh(importance_df['Feature'], importance_df['Gain'], color='steelblue')\n",
        "plt.xlabel('Gain')\n",
        "plt.title('Feature Importance (Gain) from XGBoost with Dask')\n",
        "plt.show()"
      ],
      "metadata": {
        "id": "2d-MKQWQ_JDW"
      },
      "execution_count": null,
      "outputs": []
    },
    {
      "cell_type": "code",
      "source": [
        "\n",
        "X_train_pd = X_train.compute()\n",
        "X_test_pd = X_test.compute()\n",
        "y_train_pd = y_train.compute()\n",
        "y_test_pd = y_test.compute()"
      ],
      "metadata": {
        "id": "dsiC5zBiCFWr"
      },
      "execution_count": null,
      "outputs": []
    },
    {
      "cell_type": "code",
      "source": [
        "\n",
        "\"\"\"print(\"Before SMOTE:\", Counter(y_train_pd))\n",
        "sm = SMOTE(random_state=42)\n",
        "X_train_resampled, y_train_resampled = sm.fit_resample(X_train_pd, y_train_pd)\n",
        "print(\"After SMOTE:\", Counter(y_train_resampled))\"\"\""
      ],
      "metadata": {
        "colab": {
          "base_uri": "https://localhost:8080/"
        },
        "id": "5zgYIh0IQKLi",
        "outputId": "b721b3da-047c-40da-d0d4-a446722148e1"
      },
      "execution_count": null,
      "outputs": [
        {
          "output_type": "stream",
          "name": "stdout",
          "text": [
            "Before SMOTE: Counter({'cfDNA': 7541437, 'Islet': 2464427})\n"
          ]
        }
      ]
    },
    {
      "cell_type": "code",
      "source": [
        "from cuml.ensemble import RandomForestClassifier as cuRF\n",
        "from sklearn.metrics import accuracy_score, confusion_matrix, classification_report\n",
        "\n",
        "# Initialize GPU-accelerated Random Forest\n",
        "clf = cuRF(n_estimators=100, random_state=42, max_depth=10, max_features='auto')\n",
        "\n",
        "# Train on the balanced dataset\n",
        "clf.fit(X_train_pd.values, y_train_pd.values)"
      ],
      "metadata": {
        "id": "ePy5_sc7VwH9"
      },
      "execution_count": null,
      "outputs": []
    },
    {
      "cell_type": "code",
      "source": [
        "\n",
        "\n",
        "# Predictions\n",
        "y_test_pred = clf.predict(X_test_pd.values)\n",
        "\n",
        "# Evaluate Performance\n",
        "print(\"Test Accuracy:\", accuracy_score(y_test_pd, y_test_pred))\n",
        "\n",
        "# Confusion matrix and classification report\n",
        "print(\"\\nConfusion Matrix:\")\n",
        "print(confusion_matrix(y_test_pd, y_test_pred))\n",
        "print(\"\\nClassification Report:\")\n",
        "print(classification_report(y_test_pd, y_test_pred))\n"
      ],
      "metadata": {
        "id": "itWJ1394Hh3j"
      },
      "execution_count": null,
      "outputs": []
    }
  ]
}